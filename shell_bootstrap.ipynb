{
  "nbformat": 4,
  "nbformat_minor": 0,
  "metadata": {
    "colab": {
      "name": "shell examples.ipynb",
      "provenance": [],
      "collapsed_sections": []
    },
    "kernelspec": {
      "name": "python3",
      "display_name": "Python 3"
    }
  },
  "cells": [
    {
      "cell_type": "code",
      "metadata": {
        "id": "e8dh_0kbvNeB",
        "colab_type": "code",
        "colab": {
          "base_uri": "https://localhost:8080/",
          "height": 51
        },
        "outputId": "9a5104b1-5328-4efa-be4a-ca1c59a1c9c2"
      },
      "source": [
        "!echo \"This is a single shell command\"\n",
        "\n",
        "print ('Mixed with some Python')"
      ],
      "execution_count": null,
      "outputs": [
        {
          "output_type": "stream",
          "text": [
            "This is a single shell command\n",
            "Mixed with some Python\n"
          ],
          "name": "stdout"
        }
      ]
    },
    {
      "cell_type": "code",
      "metadata": {
        "id": "i7cDqnvavT9i",
        "colab_type": "code",
        "colab": {
          "base_uri": "https://localhost:8080/",
          "height": 51
        },
        "outputId": "9fff5c82-ec8d-45e6-9081-2f24ae46dc46"
      },
      "source": [
        "%%shell\n",
        "\n",
        "echo \"This is an entire cell interpreted as a shell script\"\n",
        "echo \"You don't need to prepend each line with the '!' character\""
      ],
      "execution_count": null,
      "outputs": [
        {
          "output_type": "stream",
          "text": [
            "This is an entire cell interpreted as a shell script\n",
            "You don't need to prepend each line with the '!' character\n"
          ],
          "name": "stdout"
        },
        {
          "output_type": "execute_result",
          "data": {
            "text/plain": [
              ""
            ]
          },
          "metadata": {
            "tags": []
          },
          "execution_count": 2
        }
      ]
    }
  ]
}